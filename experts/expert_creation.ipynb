{
 "cells": [
  {
   "cell_type": "code",
   "execution_count": 1,
   "id": "d34aaa9a-02a3-4ced-a072-17a9ea90d120",
   "metadata": {},
   "outputs": [],
   "source": [
    "# 📦 Imports\n",
    "import os\n",
    "import json\n",
    "import torch\n",
    "import wandb\n",
    "from datasets import Dataset\n",
    "from transformers import (\n",
    "    AutoTokenizer,\n",
    "    AutoModelForCausalLM,\n",
    "    BitsAndBytesConfig,\n",
    "    TrainingArguments,\n",
    "    Trainer\n",
    ")\n",
    "from peft import LoraConfig, get_peft_model, prepare_model_for_kbit_training"
   ]
  },
  {
   "cell_type": "code",
   "execution_count": 2,
   "id": "7a443866-0c64-451d-b740-0dbff4d71446",
   "metadata": {},
   "outputs": [
    {
     "name": "stderr",
     "output_type": "stream",
     "text": [
      "\u001b[34m\u001b[1mwandb\u001b[0m: Using wandb-core as the SDK backend.  Please refer to https://wandb.me/wandb-core for more information.\n",
      "\u001b[34m\u001b[1mwandb\u001b[0m: Currently logged in as: \u001b[33mdyh2111\u001b[0m (\u001b[33mmed-moe\u001b[0m) to \u001b[32mhttps://api.wandb.ai\u001b[0m. Use \u001b[1m`wandb login --relogin`\u001b[0m to force relogin\n"
     ]
    },
    {
     "data": {
      "text/html": [
       "Tracking run with wandb version 0.19.9"
      ],
      "text/plain": [
       "<IPython.core.display.HTML object>"
      ]
     },
     "metadata": {},
     "output_type": "display_data"
    },
    {
     "data": {
      "text/html": [
       "Run data is saved locally in <code>/home/dyh2111/moeme/model/wandb/run-20250422_181011-cmez4qfy</code>"
      ],
      "text/plain": [
       "<IPython.core.display.HTML object>"
      ]
     },
     "metadata": {},
     "output_type": "display_data"
    },
    {
     "data": {
      "text/html": [
       "Syncing run <strong><a href='https://wandb.ai/med-moe/cardiovascular-expert-sft/runs/cmez4qfy' target=\"_blank\">tinyllama-cardio-expert-v1</a></strong> to <a href='https://wandb.ai/med-moe/cardiovascular-expert-sft' target=\"_blank\">Weights & Biases</a> (<a href='https://wandb.me/developer-guide' target=\"_blank\">docs</a>)<br>"
      ],
      "text/plain": [
       "<IPython.core.display.HTML object>"
      ]
     },
     "metadata": {},
     "output_type": "display_data"
    },
    {
     "data": {
      "text/html": [
       " View project at <a href='https://wandb.ai/med-moe/cardiovascular-expert-sft' target=\"_blank\">https://wandb.ai/med-moe/cardiovascular-expert-sft</a>"
      ],
      "text/plain": [
       "<IPython.core.display.HTML object>"
      ]
     },
     "metadata": {},
     "output_type": "display_data"
    },
    {
     "data": {
      "text/html": [
       " View run at <a href='https://wandb.ai/med-moe/cardiovascular-expert-sft/runs/cmez4qfy' target=\"_blank\">https://wandb.ai/med-moe/cardiovascular-expert-sft/runs/cmez4qfy</a>"
      ],
      "text/plain": [
       "<IPython.core.display.HTML object>"
      ]
     },
     "metadata": {},
     "output_type": "display_data"
    },
    {
     "data": {
      "text/html": [
       "<button onClick=\"this.nextSibling.style.display='block';this.style.display='none';\">Display W&B run</button><iframe src='https://wandb.ai/med-moe/cardiovascular-expert-sft/runs/cmez4qfy?jupyter=true' style='border:none;width:100%;height:420px;display:none;'></iframe>"
      ],
      "text/plain": [
       "<wandb.sdk.wandb_run.Run at 0x7ff1461b2c80>"
      ]
     },
     "execution_count": 2,
     "metadata": {},
     "output_type": "execute_result"
    }
   ],
   "source": [
    "# 🧪 Init W&B\n",
    "wandb.init(\n",
    "    project=\"cardiovascular-expert-sft\",\n",
    "    name=\"tinyllama-cardio-expert-v1\",\n",
    "    tags=[\"tinyllama\", \"sft\", \"cardiovascular\", \"medical\"],\n",
    "    notes=\"SFT of TinyLlama for cardiovascular expertise\"\n",
    ")\n",
    "#key 2184af33313777a95ce10dc38c2e90fd3a202bdd"
   ]
  },
  {
   "cell_type": "code",
   "execution_count": 3,
   "id": "d0fc0d0d-ab61-4953-a583-8b58fcc7c157",
   "metadata": {},
   "outputs": [],
   "source": [
    "# 💾 Save path\n",
    "model_path = 'moeme/model/cardiovascular_expert_model'\n",
    "\n",
    "# 🔧 Hyperparameters\n",
    "wandb_config = {\n",
    "    \"model_name\": \"TinyLlama/TinyLlama-1.1B-Chat-v1.0\",\n",
    "    \"learning_rate\": 2e-4,\n",
    "    \"epochs\": 20,\n",
    "    \"batch_size\": 4,\n",
    "    \"gradient_accumulation_steps\": 8,\n",
    "    \"lora_r\": 16,\n",
    "    \"lora_alpha\": 32,\n",
    "    \"medical_domain\": \"cardiovascular\",\n",
    "    \"load_pretrained\": True  # Set to False to load model from scratch\n",
    "}\n",
    "wandb.config.update(wandb_config)"
   ]
  },
  {
   "cell_type": "code",
   "execution_count": 4,
   "id": "ed6020aa-071e-4e81-837f-bbb5c0a45418",
   "metadata": {},
   "outputs": [],
   "source": [
    "# 🧠 Quantization\n",
    "bnb_config = BitsAndBytesConfig(\n",
    "    load_in_4bit=True,\n",
    "    bnb_4bit_quant_type=\"nf4\",\n",
    "    bnb_4bit_compute_dtype=torch.float16,\n",
    "    bnb_4bit_use_double_quant=True\n",
    ")"
   ]
  },
  {
   "cell_type": "code",
   "execution_count": 5,
   "id": "4f3ea596-cef7-49c1-a547-665b29259408",
   "metadata": {},
   "outputs": [],
   "source": [
    "# 🧾 Tokenizer\n",
    "tokenizer = AutoTokenizer.from_pretrained(wandb_config[\"model_name\"])\n",
    "tokenizer.pad_token = tokenizer.eos_token\n"
   ]
  },
  {
   "cell_type": "code",
   "execution_count": 6,
   "id": "744a3fe7-bb8d-4b23-9864-60fdecd361ed",
   "metadata": {},
   "outputs": [],
   "source": [
    "# 🧠 Model\n",
    "if wandb_config[\"load_pretrained\"] and os.path.exists(model_path):\n",
    "    model = AutoModelForCausalLM.from_pretrained(\n",
    "        model_path,\n",
    "        device_map=\"auto\",\n",
    "        quantization_config=bnb_config,\n",
    "        torch_dtype=torch.float16,\n",
    "    )\n",
    "else:\n",
    "    model = AutoModelForCausalLM.from_pretrained(\n",
    "        wandb_config[\"model_name\"],\n",
    "        device_map=\"auto\",\n",
    "        quantization_config=bnb_config,\n",
    "        torch_dtype=torch.float16,\n",
    "    )\n",
    "\n",
    "model = prepare_model_for_kbit_training(model)"
   ]
  },
  {
   "cell_type": "code",
   "execution_count": 7,
   "id": "373b4423-5a7f-461f-9e1e-09d07300554e",
   "metadata": {},
   "outputs": [],
   "source": [
    "# 🧪 LoRA Config\n",
    "lora_config = LoraConfig(\n",
    "    r=wandb_config[\"lora_r\"],\n",
    "    lora_alpha=wandb_config[\"lora_alpha\"],\n",
    "    lora_dropout=0.05,\n",
    "    bias=\"none\",\n",
    "    task_type=\"CAUSAL_LM\",\n",
    "    target_modules=[\"q_proj\", \"k_proj\", \"v_proj\", \"o_proj\", \"gate_proj\", \"up_proj\", \"down_proj\"]\n",
    ")\n",
    "model = get_peft_model(model, lora_config)"
   ]
  },
  {
   "cell_type": "code",
   "execution_count": 8,
   "id": "a5e77b00-469c-455d-868f-599e104b602d",
   "metadata": {},
   "outputs": [],
   "source": [
    "# 📂 Load Dataset\n",
    "from prompt_template import prompt_template\n",
    "\n",
    "with open(\"blood_heart_circulation_qa.json\", \"r\") as f:\n",
    "    qa_data = json.load(f)\n",
    "\n",
    "train_data = []\n",
    "for topic in qa_data:\n",
    "    for question, answer in topic['question_answer_pair']:\n",
    "        prompt = prompt_template(question, answer, benchmark='pubmedqa')\n",
    "        train_data.append({\"text\": prompt})\n",
    "\n",
    "dataset = Dataset.from_list(train_data).train_test_split(test_size=0.1)"
   ]
  },
  {
   "cell_type": "code",
   "execution_count": 15,
   "id": "57b70410-b731-48c7-8797-aab841ab34c9",
   "metadata": {},
   "outputs": [
    {
     "data": {
      "application/vnd.jupyter.widget-view+json": {
       "model_id": "71a18c62a7e74b638806b2b7345c975a",
       "version_major": 2,
       "version_minor": 0
      },
      "text/plain": [
       "Map:   0%|          | 0/278 [00:00<?, ? examples/s]"
      ]
     },
     "metadata": {},
     "output_type": "display_data"
    },
    {
     "data": {
      "application/vnd.jupyter.widget-view+json": {
       "model_id": "8f0de3a21ea9443e815e862aabbdc5c9",
       "version_major": 2,
       "version_minor": 0
      },
      "text/plain": [
       "Map:   0%|          | 0/31 [00:00<?, ? examples/s]"
      ]
     },
     "metadata": {},
     "output_type": "display_data"
    }
   ],
   "source": [
    "# 🔁 Tokenize\n",
    "def tokenize(example):\n",
    "    tokens = tokenizer(\n",
    "        example[\"text\"],\n",
    "        padding=\"max_length\",\n",
    "        truncation=True,\n",
    "        max_length=512\n",
    "    )\n",
    "    tokens[\"labels\"] = tokens[\"input_ids\"][:]\n",
    "    return tokens\n",
    "\n",
    "tokenized = dataset.map(tokenize, batched=True)"
   ]
  },
  {
   "cell_type": "code",
   "execution_count": 16,
   "id": "49c65023-5ead-4ab3-a2e4-f5ef989e01d7",
   "metadata": {},
   "outputs": [
    {
     "name": "stderr",
     "output_type": "stream",
     "text": [
      "No label_names provided for model class `PeftModelForCausalLM`. Since `PeftModel` hides base models input arguments, if label_names is not given, label_names can't be set automatically within `Trainer`. Note that empty label_names list will be used instead.\n"
     ]
    }
   ],
   "source": [
    "# ⚙️ Training Args\n",
    "training_args = TrainingArguments(\n",
    "    output_dir=model_path,\n",
    "    per_device_train_batch_size=wandb_config[\"batch_size\"],\n",
    "    per_device_eval_batch_size=wandb_config[\"batch_size\"],\n",
    "    gradient_accumulation_steps=wandb_config[\"gradient_accumulation_steps\"],\n",
    "    num_train_epochs=wandb_config[\"epochs\"],\n",
    "    learning_rate=wandb_config[\"learning_rate\"],\n",
    "    logging_dir=\"./logs\",\n",
    "    logging_steps=10,\n",
    "    save_steps=500,\n",
    "    save_total_limit=2,\n",
    "    fp16=True,\n",
    "    report_to=\"wandb\"\n",
    ")\n",
    "\n",
    "\n",
    "trainer = Trainer(\n",
    "    model=model,\n",
    "    args=training_args,\n",
    "    train_dataset=tokenized[\"train\"],\n",
    "    eval_dataset=tokenized[\"test\"],\n",
    ")"
   ]
  },
  {
   "cell_type": "code",
   "execution_count": 17,
   "id": "1f97539c-3fbd-4f71-9484-e2295823e4e6",
   "metadata": {},
   "outputs": [
    {
     "name": "stderr",
     "output_type": "stream",
     "text": [
      "/home/dyh2111/moeme/lib/python3.10/site-packages/torch/_dynamo/eval_frame.py:745: UserWarning: torch.utils.checkpoint: the use_reentrant parameter should be passed explicitly. In version 2.5 we will raise an exception if use_reentrant is not passed. use_reentrant=False is recommended, but if you need to preserve the current default behavior, you can pass use_reentrant=True. Refer to docs for more details on the differences between the two variants.\n",
      "  return fn(*args, **kwargs)\n"
     ]
    },
    {
     "data": {
      "text/html": [
       "\n",
       "    <div>\n",
       "      \n",
       "      <progress value='160' max='160' style='width:300px; height:20px; vertical-align: middle;'></progress>\n",
       "      [160/160 19:54, Epoch 17/20]\n",
       "    </div>\n",
       "    <table border=\"1\" class=\"dataframe\">\n",
       "  <thead>\n",
       " <tr style=\"text-align: left;\">\n",
       "      <th>Step</th>\n",
       "      <th>Training Loss</th>\n",
       "    </tr>\n",
       "  </thead>\n",
       "  <tbody>\n",
       "    <tr>\n",
       "      <td>10</td>\n",
       "      <td>5.203900</td>\n",
       "    </tr>\n",
       "    <tr>\n",
       "      <td>20</td>\n",
       "      <td>0.596600</td>\n",
       "    </tr>\n",
       "    <tr>\n",
       "      <td>30</td>\n",
       "      <td>0.462100</td>\n",
       "    </tr>\n",
       "    <tr>\n",
       "      <td>40</td>\n",
       "      <td>0.445100</td>\n",
       "    </tr>\n",
       "    <tr>\n",
       "      <td>50</td>\n",
       "      <td>0.399400</td>\n",
       "    </tr>\n",
       "    <tr>\n",
       "      <td>60</td>\n",
       "      <td>0.357100</td>\n",
       "    </tr>\n",
       "    <tr>\n",
       "      <td>70</td>\n",
       "      <td>0.324200</td>\n",
       "    </tr>\n",
       "    <tr>\n",
       "      <td>80</td>\n",
       "      <td>0.278900</td>\n",
       "    </tr>\n",
       "    <tr>\n",
       "      <td>90</td>\n",
       "      <td>0.233700</td>\n",
       "    </tr>\n",
       "    <tr>\n",
       "      <td>100</td>\n",
       "      <td>0.201800</td>\n",
       "    </tr>\n",
       "    <tr>\n",
       "      <td>110</td>\n",
       "      <td>0.158300</td>\n",
       "    </tr>\n",
       "    <tr>\n",
       "      <td>120</td>\n",
       "      <td>0.128900</td>\n",
       "    </tr>\n",
       "    <tr>\n",
       "      <td>130</td>\n",
       "      <td>0.113700</td>\n",
       "    </tr>\n",
       "    <tr>\n",
       "      <td>140</td>\n",
       "      <td>0.086500</td>\n",
       "    </tr>\n",
       "    <tr>\n",
       "      <td>150</td>\n",
       "      <td>0.073700</td>\n",
       "    </tr>\n",
       "    <tr>\n",
       "      <td>160</td>\n",
       "      <td>0.062300</td>\n",
       "    </tr>\n",
       "  </tbody>\n",
       "</table><p>"
      ],
      "text/plain": [
       "<IPython.core.display.HTML object>"
      ]
     },
     "metadata": {},
     "output_type": "display_data"
    },
    {
     "data": {
      "text/plain": [
       "('moeme/model/cardiovascular_expert_model/tokenizer_config.json',\n",
       " 'moeme/model/cardiovascular_expert_model/special_tokens_map.json',\n",
       " 'moeme/model/cardiovascular_expert_model/tokenizer.model',\n",
       " 'moeme/model/cardiovascular_expert_model/added_tokens.json',\n",
       " 'moeme/model/cardiovascular_expert_model/tokenizer.json')"
      ]
     },
     "execution_count": 17,
     "metadata": {},
     "output_type": "execute_result"
    }
   ],
   "source": [
    "# 🚀 Train\n",
    "trainer.train()\n",
    "trainer.save_model(model_path)\n",
    "tokenizer.save_pretrained(model_path)"
   ]
  },
  {
   "cell_type": "markdown",
   "id": "b298caa7-291c-4cc5-9bdf-c69cc080c822",
   "metadata": {},
   "source": [
    "# For continued training"
   ]
  },
  {
   "cell_type": "code",
   "execution_count": null,
   "id": "edfcef05-eab4-448e-ba8c-be7e9d9a2762",
   "metadata": {},
   "outputs": [],
   "source": [
    "# 🧠 Reload model from saved path for continued training\n",
    "model = AutoModelForCausalLM.from_pretrained(\n",
    "    model_path,\n",
    "    device_map=\"auto\",\n",
    "    quantization_config=bnb_config,\n",
    "    torch_dtype=torch.float16,\n",
    ")\n",
    "model = prepare_model_for_kbit_training(model)\n",
    "model = get_peft_model(model, lora_config)\n",
    "\n",
    "# 🧪 Restart W&B run\n",
    "wandb.init(\n",
    "    project=\"cardiovascular-expert-sft\",\n",
    "    name=\"tinyllama-cardio-expert-v2-continued\",\n",
    "    tags=[\"tinyllama\", \"sft\", \"continued-training\"],\n",
    "    notes=\"Continued SFT with same dataset but new W&B run\"\n",
    ")\n",
    "\n",
    "# 🛠️ You can modify learning rate, batch size, or epochs here\n",
    "training_args = TrainingArguments(\n",
    "    output_dir=model_path,\n",
    "    per_device_train_batch_size=wandb_config[\"batch_size\"],\n",
    "    per_device_eval_batch_size=wandb_config[\"batch_size\"],\n",
    "    gradient_accumulation_steps=wandb_config[\"gradient_accumulation_steps\"],\n",
    "    num_train_epochs=10,  # Continued for 10 more epochs\n",
    "    learning_rate=1e-4,   # Optional new LR\n",
    "    evaluation_strategy=\"epoch\",\n",
    "    save_strategy=\"epoch\",\n",
    "    logging_steps=10,\n",
    "    save_total_limit=2,\n",
    "    bf16=True,\n",
    "    report_to=\"wandb\",\n",
    "    load_best_model_at_end=True,\n",
    ")\n",
    "\n",
    "# 🔁 Continue Training\n",
    "trainer = Trainer(\n",
    "    model=model,\n",
    "    args=training_args,\n",
    "    train_dataset=tokenized[\"train\"],\n",
    "    eval_dataset=tokenized[\"test\"],\n",
    ")\n",
    "\n",
    "trainer.train()\n",
    "trainer.save_model(model_path)\n"
   ]
  }
 ],
 "metadata": {
  "kernelspec": {
   "display_name": "Python (moeme)",
   "language": "python",
   "name": "moeme"
  },
  "language_info": {
   "codemirror_mode": {
    "name": "ipython",
    "version": 3
   },
   "file_extension": ".py",
   "mimetype": "text/x-python",
   "name": "python",
   "nbconvert_exporter": "python",
   "pygments_lexer": "ipython3",
   "version": "3.10.16"
  }
 },
 "nbformat": 4,
 "nbformat_minor": 5
}
