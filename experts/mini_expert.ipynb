{
 "cells": [
  {
   "cell_type": "code",
   "execution_count": null,
   "id": "981fd9d7-7d7c-4af5-959b-44a6435efd2c",
   "metadata": {},
   "outputs": [],
   "source": [
    "# Install libs\n",
    "pip install torch transformers datasets accelerate\n"
   ]
  },
  {
   "cell_type": "code",
   "execution_count": null,
   "id": "dd880ae5-b2d3-4848-b0e5-463f007106f0",
   "metadata": {},
   "outputs": [],
   "source": [
    "# imports\n",
    "import torch\n",
    "from torch.utils.data import Dataset, DataLoader\n",
    "from transformers import AutoTokenizer, AutoModelForCausalLM, AdamW, get_scheduler\n",
    "import json\n",
    "from tqdm import tqdm\n",
    "\n",
    "# Check if cuda\n",
    "device = torch.device(\"cuda\" if torch.cuda.is_available() else \"cpu\")"
   ]
  },
  {
   "cell_type": "code",
   "execution_count": null,
   "id": "d2b46d30-0433-4c3f-9c4a-86421c78b095",
   "metadata": {},
   "outputs": [],
   "source": [
    "# Instantiate mini model from pretrain\n",
    "tokenizer = AutoTokenizer.from_pretrained(\"TinyLlama/TinyLlama-1.1B-Chat-v1.0\")\n",
    "tokenizer.pad_token = tokenizer.eos_token \n",
    "\n",
    "tiny_model = AutoModelForCausalLM.from_pretrained(\n",
    "    \"TinyLlama/TinyLlama-1.1B-Chat-v1.0\"\n",
    ").to(device)\n"
   ]
  },
  {
   "cell_type": "code",
   "execution_count": null,
   "id": "bcdfc712-b200-428a-b1a7-d4c7ee26e7c8",
   "metadata": {},
   "outputs": [],
   "source": [
    "from torch.utils.data import Dataset, DataLoader\n",
    "import json\n",
    "\n",
    "class PubMedQADataset(Dataset):\n",
    "    def __init__(self, data_path, tokenizer, mesh_filter_path, max_length=512):\n",
    "        self.tokenizer = tokenizer\n",
    "        self.max_length = max_length\n",
    "\n",
    "        # Load mesh filters\n",
    "        with open(mesh_filter_path, \"r\") as f:\n",
    "            self.mesh_filter = set(line.strip().lower() for line in f if line.strip())\n",
    "\n",
    "        # Load dataset\n",
    "        with open(data_path, 'r') as f:\n",
    "            self.training_data = json.load(f)\n",
    "\n",
    "        self.pmids = []\n",
    "\n",
    "        for pmid, item in self.training_data.items():\n",
    "            item_meshes = [m.lower() for m in item.get(\"MESHES\", [])]\n",
    "            if any(m in self.mesh_filter for m in item_meshes):\n",
    "                self.pmids.append(pmid)\n",
    "\n",
    "    def __len__(self):\n",
    "        return len(self.pmids)\n",
    "\n",
    "    def __getitem__(self, idx):\n",
    "        pmid = self.pmids[idx]\n",
    "        data_item = self.training_data[pmid]\n",
    "\n",
    "        contexts = data_item[\"CONTEXTS\"]\n",
    "        if isinstance(contexts, list):\n",
    "            contexts = \" \".join(contexts)\n",
    "\n",
    "        question = contexts + \" \" + data_item[\"QUESTION\"]\n",
    "        answer = data_item[\"final_decision\"] + \" \" + data_item[\"LONG_ANSWER\"]\n",
    "\n",
    "        prompt = f\"<|user|> {question} <|assistant|> {answer}\"\n",
    "\n",
    "        inputs = self.tokenizer(\n",
    "            prompt,\n",
    "            max_length=self.max_length,\n",
    "            padding=\"max_length\",\n",
    "            truncation=True,\n",
    "            return_tensors=\"pt\"\n",
    "        )\n",
    "        inputs[\"labels\"] = inputs[\"input_ids\"].clone()\n",
    "        return {key: val.squeeze(0) for key, val in inputs.items()}\n"
   ]
  },
  {
   "cell_type": "code",
   "execution_count": null,
   "id": "0610806a-b7da-406e-af17-a9b3ec709814",
   "metadata": {},
   "outputs": [],
   "source": [
    "# SFT\n",
    "optimizer = AdamW(tiny_model.parameters(), lr=5e-5)\n",
    "num_epochs = 3\n",
    "num_training_steps = num_epochs * len(train_loader)\n",
    "\n",
    "lr_scheduler = get_scheduler(\n",
    "    \"linear\",\n",
    "    optimizer=optimizer,\n",
    "    num_warmup_steps=0,\n",
    "    num_training_steps=num_training_steps\n",
    ")\n",
    "\n",
    "tiny_model.train()\n",
    "\n",
    "for epoch in range(num_epochs):\n",
    "    epoch_loss = 0.0\n",
    "    for batch in tqdm(train_loader):\n",
    "        batch = {k: v.to(device) for k, v in batch.items()}\n",
    "        \n",
    "        outputs = tiny_model(**batch)\n",
    "        loss = outputs.loss\n",
    "        epoch_loss += loss.item()\n",
    "\n",
    "        loss.backward()\n",
    "        optimizer.step()\n",
    "        lr_scheduler.step()\n",
    "        optimizer.zero_grad()\n",
    "\n",
    "    avg_loss = epoch_loss / len(train_loader)\n",
    "    print(f\"Epoch {epoch + 1}, Loss: {avg_loss:.4f}\")\n",
    "\n",
    "tiny_model.save_pretrained(\"fine_tuned_tinyllama_pubmedqa\")\n",
    "tokenizer.save_pretrained(\"fine_tuned_tinyllama_pubmedqa\")"
   ]
  }
 ],
 "metadata": {
  "kernelspec": {
   "display_name": "Python (moeme)",
   "language": "python",
   "name": "moeme"
  },
  "language_info": {
   "codemirror_mode": {
    "name": "ipython",
    "version": 3
   },
   "file_extension": ".py",
   "mimetype": "text/x-python",
   "name": "python",
   "nbconvert_exporter": "python",
   "pygments_lexer": "ipython3",
   "version": "3.10.16"
  }
 },
 "nbformat": 4,
 "nbformat_minor": 5
}
