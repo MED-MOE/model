{
 "cells": [
  {
   "cell_type": "code",
   "execution_count": 1,
   "id": "7df86959-da07-4cef-8460-0a3f27b5b29f",
   "metadata": {},
   "outputs": [],
   "source": [
    "# Load Libs\n",
    "from transformers import AutoTokenizer, AutoModelForCausalLM\n",
    "import torch"
   ]
  },
  {
   "cell_type": "code",
   "execution_count": 3,
   "id": "85045c1e-e7c0-465d-b0b3-90fe5289bc8b",
   "metadata": {},
   "outputs": [
    {
     "name": "stdout",
     "output_type": "stream",
     "text": [
      "cuda\n"
     ]
    }
   ],
   "source": [
    "# Check and set GPU\n",
    "device = torch.device(\"cuda\" if torch.cuda.is_available() else \"cpu\")\n",
    "print(device)"
   ]
  },
  {
   "cell_type": "code",
   "execution_count": 5,
   "id": "9ba35023-fad6-47c9-aa8b-c8affc467154",
   "metadata": {},
   "outputs": [],
   "source": [
    "model_path = \"/mnt/models/MeLLaMA-13B\""
   ]
  },
  {
   "cell_type": "code",
   "execution_count": null,
   "id": "1bf480db-ff14-47bd-9a0d-56e228b3d3af",
   "metadata": {},
   "outputs": [],
   "source": [
    "# Load teacher model (MeLLaMA-13B)\n",
    "teacher_model = AutoModelForCausalLM.from_pretrained(\n",
    "    model_path,\n",
    "    torch_dtype=torch.float16,\n",
    "    device_map=\"auto\"\n",
    ").eval()  # freeze for inference\n",
    "\n",
    "teacher_tokenizer = AutoTokenizer.from_pretrained(model_path, use_fast=True)"
   ]
  },
  {
   "cell_type": "code",
   "execution_count": null,
   "id": "d3c1040c-1365-4f4e-a789-4bc49caf2a85",
   "metadata": {},
   "outputs": [],
   "source": [
    "\n",
    "\n",
    "\n",
    "# Load student models (TinyLlama and Mistral Mini)\n",
    "tiny_model = AutoModelForCausalLM.from_pretrained(\"TinyLlama/TinyLlama-1.1B-Chat-v1.0\").to(device)\n",
    "mistral_model = AutoModelForCausalLM.from_pretrained(\"mistralai/Mistral-7B-v0.1\").to(device)  # swap to mini if smaller\n",
    "student_tokenizer = AutoTokenizer.from_pretrained(\"TinyLlama/TinyLlama-1.1B-Chat-v1.0\")\n"
   ]
  }
 ],
 "metadata": {
  "kernelspec": {
   "display_name": "Python (moeme)",
   "language": "python",
   "name": "moeme"
  },
  "language_info": {
   "codemirror_mode": {
    "name": "ipython",
    "version": 3
   },
   "file_extension": ".py",
   "mimetype": "text/x-python",
   "name": "python",
   "nbconvert_exporter": "python",
   "pygments_lexer": "ipython3",
   "version": "3.10.16"
  }
 },
 "nbformat": 4,
 "nbformat_minor": 5
}
