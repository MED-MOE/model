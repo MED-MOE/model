{
 "cells": [
  {
   "cell_type": "code",
   "execution_count": 1,
   "id": "402d5e56",
   "metadata": {},
   "outputs": [],
   "source": [
    "import json"
   ]
  },
  {
   "cell_type": "code",
   "execution_count": 12,
   "id": "6a297671",
   "metadata": {},
   "outputs": [],
   "source": [
    "with open('health_topics.json', 'r') as file:\n",
    "    data = json.load(file)"
   ]
  },
  {
   "cell_type": "code",
   "execution_count": 11,
   "id": "5d3fda6f",
   "metadata": {},
   "outputs": [
    {
     "data": {
      "text/plain": [
       "338"
      ]
     },
     "execution_count": 11,
     "metadata": {},
     "output_type": "execute_result"
    }
   ],
   "source": [
    "len(data)"
   ]
  },
  {
   "cell_type": "code",
   "execution_count": 18,
   "id": "1d10d945",
   "metadata": {},
   "outputs": [],
   "source": [
    "group_list = []\n",
    "for obj in data:\n",
    "    for key, value in obj.items():\n",
    "        if key == 'groups':\n",
    "            group_list.extend(value)\n",
    "\n",
    "group_list = set(group_list)"
   ]
  },
  {
   "cell_type": "code",
   "execution_count": 19,
   "id": "72fc389a",
   "metadata": {},
   "outputs": [
    {
     "data": {
      "text/plain": [
       "{'Blood, Heart and Circulation',\n",
       " 'Bones, Joints and Muscles',\n",
       " 'Brain and Nerves',\n",
       " 'Cancers',\n",
       " 'Children and Teenagers',\n",
       " 'Complementary and Alternative Therapies',\n",
       " 'Diabetes Mellitus',\n",
       " 'Diagnostic Tests',\n",
       " 'Digestive System',\n",
       " 'Disasters',\n",
       " 'Drug Therapy',\n",
       " 'Ear, Nose and Throat',\n",
       " 'Endocrine System',\n",
       " 'Eyes and Vision',\n",
       " 'Female Reproductive System',\n",
       " 'Fitness and Exercise',\n",
       " 'Food and Nutrition',\n",
       " 'Genetics/Birth Defects',\n",
       " 'Health System',\n",
       " 'Immune System',\n",
       " 'Infections',\n",
       " 'Injuries and Wounds',\n",
       " 'Kidneys and Urinary System',\n",
       " 'Lungs and Breathing',\n",
       " 'Male Reproductive System',\n",
       " 'Men',\n",
       " 'Mental Health and Behavior',\n",
       " 'Metabolic Problems',\n",
       " 'Mouth and Teeth',\n",
       " 'Older Adults',\n",
       " 'Personal Health Issues',\n",
       " 'Poisoning, Toxicology, Environmental Health',\n",
       " 'Population Groups',\n",
       " 'Pregnancy and Reproduction',\n",
       " 'Safety Issues',\n",
       " 'Sexual Health Issues',\n",
       " 'Skin, Hair and Nails',\n",
       " 'Social/Family Issues',\n",
       " 'Substance Use and Disorders',\n",
       " 'Surgery and Rehabilitation',\n",
       " 'Symptoms',\n",
       " 'Wellness and Lifestyle',\n",
       " 'Women'}"
      ]
     },
     "execution_count": 19,
     "metadata": {},
     "output_type": "execute_result"
    }
   ],
   "source": [
    "group_list"
   ]
  },
  {
   "cell_type": "code",
   "execution_count": null,
   "id": "106476db",
   "metadata": {},
   "outputs": [],
   "source": [
    "\"Blood, Heart and Circulation\"\n",
    "\"Bones, Joints and Muscles\"\n",
    "\"Mental Health and Behavior\""
   ]
  },
  {
   "cell_type": "code",
   "execution_count": 20,
   "id": "29c121b0",
   "metadata": {},
   "outputs": [],
   "source": [
    "\n",
    "def get_data_from_group(json_obj, group_name):\n",
    "    result = []\n",
    "    for obj in json_obj:\n",
    "        for key, value in obj.items():\n",
    "            if key == 'groups' and group_name in value:\n",
    "                result.append(obj)\n",
    "    return result"
   ]
  },
  {
   "cell_type": "code",
   "execution_count": 26,
   "id": "f14e8278",
   "metadata": {},
   "outputs": [],
   "source": [
    "blood_heart_circulation_qa = get_data_from_group(data, 'Blood, Heart and Circulation')"
   ]
  },
  {
   "cell_type": "code",
   "execution_count": 27,
   "id": "cb07bfc4",
   "metadata": {},
   "outputs": [],
   "source": [
    "bones_joints_muscles_qa = get_data_from_group(data, 'Bones, Joints and Muscles')"
   ]
  },
  {
   "cell_type": "code",
   "execution_count": 29,
   "id": "3d886e3a",
   "metadata": {},
   "outputs": [],
   "source": [
    "mental_behavior_qa = get_data_from_group(data, 'Mental Health and Behavior')"
   ]
  },
  {
   "cell_type": "code",
   "execution_count": 31,
   "id": "96f3e49d",
   "metadata": {},
   "outputs": [
    {
     "data": {
      "text/plain": [
       "24"
      ]
     },
     "execution_count": 31,
     "metadata": {},
     "output_type": "execute_result"
    }
   ],
   "source": [
    "len(mental_behavior_qa)"
   ]
  },
  {
   "cell_type": "code",
   "execution_count": 32,
   "id": "b76d8d6b",
   "metadata": {},
   "outputs": [
    {
     "data": {
      "text/plain": [
       "50"
      ]
     },
     "execution_count": 32,
     "metadata": {},
     "output_type": "execute_result"
    }
   ],
   "source": [
    "len(blood_heart_circulation_qa)"
   ]
  },
  {
   "cell_type": "code",
   "execution_count": 33,
   "id": "c9c21c15",
   "metadata": {},
   "outputs": [
    {
     "data": {
      "text/plain": [
       "27"
      ]
     },
     "execution_count": 33,
     "metadata": {},
     "output_type": "execute_result"
    }
   ],
   "source": [
    "len(bones_joints_muscles_qa)"
   ]
  }
 ],
 "metadata": {
  "kernelspec": {
   "display_name": "venv",
   "language": "python",
   "name": "python3"
  },
  "language_info": {
   "codemirror_mode": {
    "name": "ipython",
    "version": 3
   },
   "file_extension": ".py",
   "mimetype": "text/x-python",
   "name": "python",
   "nbconvert_exporter": "python",
   "pygments_lexer": "ipython3",
   "version": "3.12.8"
  }
 },
 "nbformat": 4,
 "nbformat_minor": 5
}
